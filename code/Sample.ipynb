{
 "cells": [
  {
   "cell_type": "code",
   "execution_count": 123,
   "metadata": {
    "collapsed": true
   },
   "outputs": [],
   "source": [
    "%matplotlib inline\n",
    "import numpy as np\n",
    "import cv2\n",
    "import matplotlib.pyplot as plt\n",
    "\n",
    "#The upscaling factor\n",
    "R = 2\n",
    "\n",
    "#The patch size\n",
    "patchSize = 16\n",
    "\n",
    "Qangle = 24\n",
    "Qstrenth = 3\n",
    "Qcoherence = 3"
   ]
  },
  {
   "cell_type": "code",
   "execution_count": 2,
   "metadata": {
    "collapsed": false
   },
   "outputs": [],
   "source": [
    "# Read test image\n",
    "mat = cv2.imread(\"../train/baboon.bmp\",0)\n",
    "mat = cv2.normalize(mat.astype('float'), None, 0.0, 1.0, cv2.NORM_MINMAX)\n",
    "\n",
    "#Set the LR and SR image\n",
    "LRImage = cv2.resize(mat, (int(mat.shape[1]/R), int(mat.shape[0]/R)))\n",
    "HRImage = mat\n",
    "\n",
    "# Upscale the LRImage\n",
    "LRImage = cv2.resize(LRImage,(mat.shape[1],mat.shape[0]),cv2.INTER_LINEAR)"
   ]
  },
  {
   "cell_type": "code",
   "execution_count": 3,
   "metadata": {
    "collapsed": true
   },
   "outputs": [],
   "source": [
    "# Use the pixel local in (100,100)\n",
    "# and the surrounding is 11\n",
    "patch = LRImage[95:105,95:105]"
   ]
  },
  {
   "cell_type": "code",
   "execution_count": 4,
   "metadata": {
    "collapsed": true
   },
   "outputs": [],
   "source": [
    "[gx,gy] = np.gradient(patch)"
   ]
  },
  {
   "cell_type": "code",
   "execution_count": 34,
   "metadata": {
    "collapsed": false
   },
   "outputs": [],
   "source": [
    "G = np.matrix((gx.ravel(),gy.ravel())).T"
   ]
  },
  {
   "cell_type": "code",
   "execution_count": 79,
   "metadata": {
    "collapsed": false
   },
   "outputs": [],
   "source": [
    "x = G.T*G"
   ]
  },
  {
   "cell_type": "code",
   "execution_count": 80,
   "metadata": {
    "collapsed": false
   },
   "outputs": [],
   "source": [
    "[eigenvalues,eigenvectors] = np.linalg.eig(x)"
   ]
  },
  {
   "cell_type": "code",
   "execution_count": 131,
   "metadata": {
    "collapsed": false
   },
   "outputs": [],
   "source": [
    "angle = np.math.atan2(eigenvectors[0,1],eigenvectors[0,0])\n",
    "if angle<0:\n",
    "    angle += np.pi"
   ]
  },
  {
   "cell_type": "code",
   "execution_count": 132,
   "metadata": {
    "collapsed": false
   },
   "outputs": [],
   "source": [
    "strength = eigenvalues.max()"
   ]
  },
  {
   "cell_type": "code",
   "execution_count": 133,
   "metadata": {
    "collapsed": false
   },
   "outputs": [],
   "source": [
    "lamda1 = np.math.sqrt(eigenvalues.max())\n",
    "lamda2 = np.math.sqrt(eigenvalues.min())\n",
    "coherence = np.abs((lamda1-lamda2)/(lamda1+lamda2))"
   ]
  },
  {
   "cell_type": "code",
   "execution_count": 138,
   "metadata": {
    "collapsed": false
   },
   "outputs": [],
   "source": [
    "angle = np.ceil(angle/(np.pi/Qangle))\n",
    "strength = np.ceil(strength/(1/Qstrenth))\n",
    "coherence = np.ceil(coherence/(1/Qcoherence))"
   ]
  },
  {
   "cell_type": "code",
   "execution_count": null,
   "metadata": {
    "collapsed": true
   },
   "outputs": [],
   "source": []
  }
 ],
 "metadata": {
  "kernelspec": {
   "display_name": "Python 3",
   "language": "python",
   "name": "python3"
  },
  "language_info": {
   "codemirror_mode": {
    "name": "ipython",
    "version": 3
   },
   "file_extension": ".py",
   "mimetype": "text/x-python",
   "name": "python",
   "nbconvert_exporter": "python",
   "pygments_lexer": "ipython3",
   "version": "3.5.2"
  }
 },
 "nbformat": 4,
 "nbformat_minor": 2
}
